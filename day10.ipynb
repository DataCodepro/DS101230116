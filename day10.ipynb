{
 "cells": [
  {
   "cell_type": "markdown",
   "id": "f4439a01",
   "metadata": {},
   "source": [
    "# EXERCISE\n",
    "## A SMART PHONE DEALER IN THE LOCALITY IS VERY WORRIED ABOUT HIS RECORDS AS HIS ASSISTANT IS NOT SO SERIOUS ABOUT THE OVERALL TURNOVER. HE CAN'T CHANGE IS ASSISTANT BECAUSE HE IS ONE OF HIS FAMILY MEMBER AND THEREFORE TURNS OUT TO BE ISSUSE FOR THE DEALER. USING THE CLASS AND OBJECT WRITE A PYTHON CODE TO MANAGE THE DEALERS STORE HAVING THE FOLLOWING ATTRIBUTE [PHONE NAME, MODEL, QUANTITY AND PRICE] AND THE FOLLOWING METHOD GET PRICE, GETMODEL AND USE WHILE LOOP TO MAKE A RUNNING SYSTEM"
   ]
  },
  {
   "cell_type": "code",
   "execution_count": 3,
   "id": "24df0689",
   "metadata": {},
   "outputs": [
    {
     "name": "stdout",
     "output_type": "stream",
     "text": [
      "Enter y as yes to perform operations and n as no to quit:y\n",
      "Enter phone name:Tecno Spark 8p\n",
      "Enter phone model:TC457878\n",
      "Enter Phone quantity:25\n",
      "Enter phone price:77000\n",
      "Enter y as yes to perform operations and n as no to quit:VIVO T20\n",
      "___THE LIST OF AVALIABLE PHONES_____\n",
      "1 .  Tecno Spark 8p::TC457878::77000::25\n"
     ]
    }
   ],
   "source": [
    "class phonestore:\n",
    "    def __init__(self,phonename,model,quantity,price):\n",
    "        self.phonename = phonename\n",
    "        self.model = model\n",
    "        self.quantity = quantity\n",
    "        self.price = price\n",
    "    \n",
    "    def getprice(self):\n",
    "        return self.price\n",
    "    def getmodel(self):\n",
    "        return self.model\n",
    "    def getquantity(self):\n",
    "        return self.quantity\n",
    "    def __str__(self):\n",
    "        return self.phonename + '::' + str(self.getmodel()) + '::'+ str(self.getprice()) + '::'+ str(self.getquantity())\n",
    "def  price(rec,phonename,model,quantity,price):\n",
    "        rec.append(phonestore(phonename,model,quantity,price))\n",
    "        return rec\n",
    "records = []\n",
    "x = input('Enter y as yes to perform operations and n as no to quit:')\n",
    "while x =='y':\n",
    "        phonename = input('Enter phone name:')\n",
    "        model = input('Enter phone model:')\n",
    "        quantity = input('Enter Phone quantity:')\n",
    "        prices = input('Enter phone price:')\n",
    "        records = price(records,phonename,model,quantity,prices)\n",
    "        x =  input('Enter y as yes to perform operations and n as no to quit:')\n",
    "counter = 1\n",
    "print('___THE LIST OF AVALIABLE PHONES_____')\n",
    "for items in records:\n",
    "    print(counter, '. ', items)\n",
    "    counter = counter + 1"
   ]
  },
  {
   "cell_type": "code",
   "execution_count": null,
   "id": "5f862e2f",
   "metadata": {},
   "outputs": [],
   "source": []
  }
 ],
 "metadata": {
  "kernelspec": {
   "display_name": "Python 3 (ipykernel)",
   "language": "python",
   "name": "python3"
  },
  "language_info": {
   "codemirror_mode": {
    "name": "ipython",
    "version": 3
   },
   "file_extension": ".py",
   "mimetype": "text/x-python",
   "name": "python",
   "nbconvert_exporter": "python",
   "pygments_lexer": "ipython3",
   "version": "3.9.12"
  }
 },
 "nbformat": 4,
 "nbformat_minor": 5
}

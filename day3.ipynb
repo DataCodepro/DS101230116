{
 "cells": [
  {
   "cell_type": "markdown",
   "id": "9abc367d",
   "metadata": {},
   "source": [
    "# ITERABLE OBJECT"
   ]
  },
  {
   "cell_type": "code",
   "execution_count": 1,
   "id": "c83a0564",
   "metadata": {},
   "outputs": [],
   "source": [
    "# TUPLE\n",
    "# TUPLE IS UNCHANGEABLE\n",
    "# TUPLE MUST BE OREDED\n",
    "# TUPLE IS DENOTED ( )\n",
    "# TO ACCESS ANY VALUE WE USE THE INDEX LOCATION"
   ]
  },
  {
   "cell_type": "code",
   "execution_count": 2,
   "id": "e4c059b7",
   "metadata": {},
   "outputs": [
    {
     "name": "stdout",
     "output_type": "stream",
     "text": [
      "11\n"
     ]
    }
   ],
   "source": [
    "numbers = (45,23,65,85,23,56,45,85,69,30,35)\n",
    "print(len(numbers))"
   ]
  },
  {
   "cell_type": "code",
   "execution_count": 3,
   "id": "553b9b47",
   "metadata": {},
   "outputs": [
    {
     "name": "stdout",
     "output_type": "stream",
     "text": [
      "<class 'tuple'>\n"
     ]
    }
   ],
   "source": [
    "print(type(numbers))"
   ]
  },
  {
   "cell_type": "code",
   "execution_count": 4,
   "id": "51395cda",
   "metadata": {},
   "outputs": [
    {
     "name": "stdout",
     "output_type": "stream",
     "text": [
      "23\n"
     ]
    }
   ],
   "source": [
    "print(numbers[4])"
   ]
  },
  {
   "cell_type": "code",
   "execution_count": 5,
   "id": "50680c25",
   "metadata": {},
   "outputs": [
    {
     "name": "stdout",
     "output_type": "stream",
     "text": [
      "23\n"
     ]
    }
   ],
   "source": [
    "print(numbers[-7])"
   ]
  },
  {
   "cell_type": "code",
   "execution_count": 7,
   "id": "75ac3aca",
   "metadata": {},
   "outputs": [
    {
     "name": "stdout",
     "output_type": "stream",
     "text": [
      "(85, 23, 56, 45)\n"
     ]
    }
   ],
   "source": [
    "print(numbers[3:7])"
   ]
  },
  {
   "cell_type": "code",
   "execution_count": 9,
   "id": "82378e15",
   "metadata": {},
   "outputs": [
    {
     "name": "stdout",
     "output_type": "stream",
     "text": [
      "False\n"
     ]
    }
   ],
   "source": [
    "print(50 in numbers)"
   ]
  },
  {
   "cell_type": "code",
   "execution_count": 10,
   "id": "881028f0",
   "metadata": {},
   "outputs": [
    {
     "name": "stdout",
     "output_type": "stream",
     "text": [
      "2\n"
     ]
    }
   ],
   "source": [
    "print(numbers.count(45))"
   ]
  },
  {
   "cell_type": "code",
   "execution_count": 11,
   "id": "af81e358",
   "metadata": {},
   "outputs": [
    {
     "name": "stdout",
     "output_type": "stream",
     "text": [
      "2\n"
     ]
    }
   ],
   "source": [
    "print(numbers.index(65))"
   ]
  },
  {
   "cell_type": "markdown",
   "id": "8577d9b7",
   "metadata": {},
   "source": [
    "# LIST"
   ]
  },
  {
   "cell_type": "code",
   "execution_count": 12,
   "id": "02b478b2",
   "metadata": {},
   "outputs": [],
   "source": [
    "fruits = ['Apple','Cherry','Lemon','Grape']"
   ]
  },
  {
   "cell_type": "code",
   "execution_count": 13,
   "id": "93a8b905",
   "metadata": {},
   "outputs": [
    {
     "name": "stdout",
     "output_type": "stream",
     "text": [
      "['Apple', 'Cherry', 'Lemon', 'Grape', 'Pear']\n"
     ]
    }
   ],
   "source": [
    "fruits.append('Pear')\n",
    "print(fruits)"
   ]
  },
  {
   "cell_type": "code",
   "execution_count": 14,
   "id": "696a54f0",
   "metadata": {},
   "outputs": [
    {
     "name": "stdout",
     "output_type": "stream",
     "text": [
      "['Apple', 'Cherry', 'Lemon', 'Grape', 'Pear', 'Banana', 'PawPaw', 'Orange', 'Apple']\n"
     ]
    }
   ],
   "source": [
    "newlist = ['Banana','PawPaw','Orange','Apple']\n",
    "fruits.extend(newlist)\n",
    "print(fruits)"
   ]
  },
  {
   "cell_type": "code",
   "execution_count": 15,
   "id": "fed3fae7",
   "metadata": {},
   "outputs": [
    {
     "name": "stdout",
     "output_type": "stream",
     "text": [
      "['Apple', 'Cherry', 'Lemon', 'Coconut', 'Grape', 'Pear', 'Banana', 'PawPaw', 'Orange', 'Apple']\n"
     ]
    }
   ],
   "source": [
    "fruits.insert(3,'Coconut')\n",
    "print(fruits)"
   ]
  },
  {
   "cell_type": "code",
   "execution_count": 16,
   "id": "a08e3ce0",
   "metadata": {},
   "outputs": [
    {
     "name": "stdout",
     "output_type": "stream",
     "text": [
      "['Apple', 'Apple', 'Banana', 'Cherry', 'Coconut', 'Grape', 'Lemon', 'Orange', 'PawPaw', 'Pear']\n"
     ]
    }
   ],
   "source": [
    "fruits.sort()\n",
    "print(fruits)"
   ]
  },
  {
   "cell_type": "code",
   "execution_count": 17,
   "id": "e1f43296",
   "metadata": {},
   "outputs": [
    {
     "name": "stdout",
     "output_type": "stream",
     "text": [
      "['Pear', 'PawPaw', 'Orange', 'Lemon', 'Grape', 'Coconut', 'Cherry', 'Banana', 'Apple', 'Apple']\n"
     ]
    }
   ],
   "source": [
    "fruits.reverse()\n",
    "print(fruits)"
   ]
  },
  {
   "cell_type": "code",
   "execution_count": 18,
   "id": "cc74eb2b",
   "metadata": {},
   "outputs": [
    {
     "name": "stdout",
     "output_type": "stream",
     "text": [
      "['Pear', 'PawPaw', 'Orange', 'Lemon', 'Coconut', 'Cherry', 'Banana', 'Apple', 'Apple']\n"
     ]
    }
   ],
   "source": [
    "fruits.pop(4)\n",
    "print(fruits)"
   ]
  },
  {
   "cell_type": "code",
   "execution_count": 19,
   "id": "522df226",
   "metadata": {},
   "outputs": [
    {
     "name": "stdout",
     "output_type": "stream",
     "text": [
      "['Pear', 'PawPaw', 'Orange', 'Lemon', 'Coconut', 'Banana', 'Apple', 'Apple']\n"
     ]
    }
   ],
   "source": [
    "fruits.remove('Cherry')\n",
    "print(fruits)"
   ]
  },
  {
   "cell_type": "code",
   "execution_count": 20,
   "id": "722a0a11",
   "metadata": {},
   "outputs": [
    {
     "name": "stdout",
     "output_type": "stream",
     "text": [
      "['Pear', 'PawPaw', 'Orange', 'Lemon', 'Coconut', 'Banana', 'Apple', 'Apple']\n"
     ]
    }
   ],
   "source": [
    "fruits_copy = fruits.copy()\n",
    "print(fruits_copy)"
   ]
  },
  {
   "cell_type": "code",
   "execution_count": 21,
   "id": "242e5a1a",
   "metadata": {},
   "outputs": [
    {
     "name": "stdout",
     "output_type": "stream",
     "text": [
      "[]\n"
     ]
    }
   ],
   "source": [
    "fruits_copy.clear()\n",
    "print(fruits_copy)"
   ]
  },
  {
   "cell_type": "code",
   "execution_count": 22,
   "id": "559b99b3",
   "metadata": {},
   "outputs": [
    {
     "ename": "NameError",
     "evalue": "name 'fruits_copy' is not defined",
     "output_type": "error",
     "traceback": [
      "\u001b[1;31m---------------------------------------------------------------------------\u001b[0m",
      "\u001b[1;31mNameError\u001b[0m                                 Traceback (most recent call last)",
      "Input \u001b[1;32mIn [22]\u001b[0m, in \u001b[0;36m<cell line: 2>\u001b[1;34m()\u001b[0m\n\u001b[0;32m      1\u001b[0m \u001b[38;5;28;01mdel\u001b[39;00m(fruits_copy)\n\u001b[1;32m----> 2\u001b[0m \u001b[38;5;28mprint\u001b[39m(\u001b[43mfruits_copy\u001b[49m)\n",
      "\u001b[1;31mNameError\u001b[0m: name 'fruits_copy' is not defined"
     ]
    }
   ],
   "source": [
    "del(fruits_copy)\n",
    "print(fruits_copy)"
   ]
  },
  {
   "cell_type": "markdown",
   "id": "0af3fe33",
   "metadata": {},
   "source": [
    "# Dictionary"
   ]
  },
  {
   "cell_type": "code",
   "execution_count": 23,
   "id": "d1c5f2fc",
   "metadata": {},
   "outputs": [],
   "source": [
    "records = {\n",
    "    'Name':'Bola Jame',\n",
    "    'Age':45,\n",
    "    'Gender':'Male',\n",
    "    'Height':1.85,\n",
    "    'Weight':75\n",
    "}"
   ]
  },
  {
   "cell_type": "code",
   "execution_count": 24,
   "id": "56b54d42",
   "metadata": {},
   "outputs": [
    {
     "name": "stdout",
     "output_type": "stream",
     "text": [
      "Male\n"
     ]
    }
   ],
   "source": [
    "print(records['Gender'])"
   ]
  },
  {
   "cell_type": "code",
   "execution_count": 25,
   "id": "64809423",
   "metadata": {},
   "outputs": [
    {
     "name": "stdout",
     "output_type": "stream",
     "text": [
      "dict_keys(['Name', 'Age', 'Gender', 'Height', 'Weight'])\n"
     ]
    }
   ],
   "source": [
    "print(records.keys())"
   ]
  },
  {
   "cell_type": "code",
   "execution_count": 26,
   "id": "d963c252",
   "metadata": {},
   "outputs": [
    {
     "name": "stdout",
     "output_type": "stream",
     "text": [
      "dict_values(['Bola Jame', 45, 'Male', 1.85, 75])\n"
     ]
    }
   ],
   "source": [
    "print(records.values())"
   ]
  },
  {
   "cell_type": "code",
   "execution_count": 27,
   "id": "910be208",
   "metadata": {},
   "outputs": [
    {
     "name": "stdout",
     "output_type": "stream",
     "text": [
      "dict_items([('Name', 'Bola Jame'), ('Age', 45), ('Gender', 'Male'), ('Height', 1.85), ('Weight', 75)])\n"
     ]
    }
   ],
   "source": [
    "print(records.items())"
   ]
  },
  {
   "cell_type": "code",
   "execution_count": 28,
   "id": "7e908b2a",
   "metadata": {},
   "outputs": [
    {
     "name": "stdout",
     "output_type": "stream",
     "text": [
      "{'Name': 'Bola Jame', 'Age': 45, 'Gender': 'Male', 'Height': 1.95, 'Weight': 75}\n"
     ]
    }
   ],
   "source": [
    "r = {'Height':1.95}\n",
    "records.update(r)\n",
    "print(records)"
   ]
  },
  {
   "cell_type": "code",
   "execution_count": 29,
   "id": "c6fa7fb1",
   "metadata": {},
   "outputs": [
    {
     "name": "stdout",
     "output_type": "stream",
     "text": [
      "{'Name': 'Bola Jame', 'Age': 45, 'Gender': 'Male', 'Height': 1.95, 'Weight': 75, 'Address': 'Highway street'}\n"
     ]
    }
   ],
   "source": [
    "records['Address'] = 'Highway street'\n",
    "print(records)"
   ]
  },
  {
   "cell_type": "code",
   "execution_count": 30,
   "id": "3a3290e6",
   "metadata": {},
   "outputs": [
    {
     "name": "stdout",
     "output_type": "stream",
     "text": [
      "{'Name': 'Bola Jame', 'Age': 45, 'Gender': 'Male', 'Height': 1.95, 'Weight': 75}\n"
     ]
    }
   ],
   "source": [
    "records.popitem()\n",
    "print(records)"
   ]
  },
  {
   "cell_type": "code",
   "execution_count": 31,
   "id": "a1da993b",
   "metadata": {},
   "outputs": [
    {
     "name": "stdout",
     "output_type": "stream",
     "text": [
      "{'Name': 'Bola Jame', 'Gender': 'Male', 'Height': 1.95, 'Weight': 75}\n"
     ]
    }
   ],
   "source": [
    "records.pop('Age')\n",
    "print(records)"
   ]
  },
  {
   "cell_type": "code",
   "execution_count": 32,
   "id": "3c9a8dd5",
   "metadata": {},
   "outputs": [],
   "source": [
    "family = {\n",
    "    'firstchild':['Ade',30,'Male'],\n",
    "    'secondchild':['Fatima',26,'Female'],\n",
    "    'thirdchild':['Bose',23,'Female']\n",
    "}"
   ]
  },
  {
   "cell_type": "code",
   "execution_count": 33,
   "id": "1f5b9330",
   "metadata": {},
   "outputs": [
    {
     "name": "stdout",
     "output_type": "stream",
     "text": [
      "['Fatima', 26, 'Female']\n"
     ]
    }
   ],
   "source": [
    "print(family['secondchild'])"
   ]
  },
  {
   "cell_type": "code",
   "execution_count": 34,
   "id": "1272a557",
   "metadata": {},
   "outputs": [
    {
     "name": "stdout",
     "output_type": "stream",
     "text": [
      "26\n"
     ]
    }
   ],
   "source": [
    "print(family['secondchild'][1])"
   ]
  },
  {
   "cell_type": "code",
   "execution_count": null,
   "id": "6f6ba41d",
   "metadata": {},
   "outputs": [],
   "source": []
  }
 ],
 "metadata": {
  "kernelspec": {
   "display_name": "Python 3 (ipykernel)",
   "language": "python",
   "name": "python3"
  },
  "language_info": {
   "codemirror_mode": {
    "name": "ipython",
    "version": 3
   },
   "file_extension": ".py",
   "mimetype": "text/x-python",
   "name": "python",
   "nbconvert_exporter": "python",
   "pygments_lexer": "ipython3",
   "version": "3.9.12"
  }
 },
 "nbformat": 4,
 "nbformat_minor": 5
}

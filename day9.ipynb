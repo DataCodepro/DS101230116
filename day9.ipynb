{
 "cells": [
  {
   "cell_type": "markdown",
   "id": "6380b5f9",
   "metadata": {},
   "source": [
    "# Exercise\n",
    "# YOU HAVE JUST BEEN EMPLOYEED BY JTECH LIMITED, YOU ARE ASKED TO CREATE A SIMPLE POSTING PROGRAMM FOR STAFF TO ANY OF OUR BRANCH LOCATION [ABIA, KADUNA, KANO, DELTA, GOMBE,AKWA-IBOM, OYO , OSUN, KWARA]CREATE A DICTIONARY AS THE DATABASE WITH STAFF ID AS THE KEY WITH THE FOLLOWING VALUESSTAFF NAME , DOB,ADDRESS, PHONENUMBER AND EMAIL\n",
    "# Note: The program should be done inside a function"
   ]
  },
  {
   "cell_type": "code",
   "execution_count": null,
   "id": "76f865dd",
   "metadata": {},
   "outputs": [],
   "source": [
    "def staffposting():\n",
    "    import random\n",
    "    staffrecords = {\n",
    "        'JT010001': ['BANKY JOB','05/06/1986','ST PATRICKS STREET','08156565987','JOB12@GMAIL.COM'],\n",
    "        'JT010002': ['FAITH AKPAN','25/01/1990','ST MARY STREET','09025636545','FAITH12@GMAIL.COM'],\n",
    "        'JT010003': ['HOPE JONES','05/12/1989','ST BUHARI STREET','08052326565','HOPE12@GMAIL.COM'],\n",
    "        'JT010004': ['SAMUEL ADEBISI','25/06/1976','ST BALA BLU STREET','081452222223','SAMUEL12@GMAIL.COM'],\n",
    "        'JT010005': ['LAWAL HAMZAT','22/02/1992','ST JAMES STREET','08145478965','LAWAL12@GMAIL.COM'],\n",
    "        'JT010006': ['JANET FATIA','15/02/1993','NO 55 HIGHWAY STREET','09023656969','JANET12@GMAIL.COM']\n",
    "    }\n",
    "    branch_location = ['ABIA', 'KADUNA', 'KANO', 'DELTA', 'GOMBE','AKWA-IBOM', 'OYO' , 'OSUN', 'KWARA']\n",
    "    staffid = input('PROVIDE YOUR STAFF ID TO GET YOUR POSTING')\n",
    "    for key in staffrecords:\n",
    "        if staffid == key:\n",
    "            print(f'''__________________ STAFF DETAILS_____________________\n",
    "    NAME: {staffrecords[key][0]}\n",
    "    DATE OF BIRTH: {staffrecords[key][1]}\n",
    "    ADDRESS : {staffrecords[key][2]}\n",
    "    PHONE NUMBER : {staffrecords[key][3]}\n",
    "    EMAIL : {staffrecords[key][4]}\n",
    "    ''')\n",
    "            print(f'Congratulations you have been posted to {random.choice(branch_location)}')\n",
    "            break\n",
    "    else:\n",
    "        print('Record not found')\n",
    "staffposting()"
   ]
  },
  {
   "cell_type": "markdown",
   "id": "cbd1b1e3",
   "metadata": {},
   "source": [
    "# FILE INPUT AND OUTPUT"
   ]
  },
  {
   "cell_type": "code",
   "execution_count": 1,
   "id": "dd119b5a",
   "metadata": {},
   "outputs": [],
   "source": [
    "# w, r, a, r+"
   ]
  },
  {
   "cell_type": "code",
   "execution_count": 4,
   "id": "23a9557e",
   "metadata": {},
   "outputs": [],
   "source": [
    "file = open('demo.docx','w')\n",
    "file.write('''YOU HAVE JUST BEEN EMPLOYEED BY JTECH LIMITED, YOU ARE ASKED TO CREATE A SIMPLE \n",
    "POSTING PROGRAMM FOR STAFF TO ANY OF OUR\n",
    "''')\n",
    "file.close()"
   ]
  },
  {
   "cell_type": "code",
   "execution_count": 5,
   "id": "5c811169",
   "metadata": {},
   "outputs": [
    {
     "name": "stdout",
     "output_type": "stream",
     "text": [
      "YOU HAVE JUST BEEN EMPLOYEED BY JTECH LIMITED, YOU ARE ASKED TO CREATE A SIMPLE \n",
      "POSTING PROGRAMM FOR STAFF TO ANY OF OUR\n",
      "\n"
     ]
    }
   ],
   "source": [
    "file = open('demo.pdf','r')\n",
    "print(file.read())\n",
    "file.close()"
   ]
  },
  {
   "cell_type": "code",
   "execution_count": 6,
   "id": "ab3cee64",
   "metadata": {},
   "outputs": [],
   "source": [
    "file = open('demo.docx','a')\n",
    "file.write('BRANCH LOCATION [ABIA, KADUNA, KANO, DELTA, GOMBE,AKWA-IBOM, OYO , OSUN, KWARA]')\n",
    "file.close()"
   ]
  },
  {
   "cell_type": "code",
   "execution_count": 7,
   "id": "593850f4",
   "metadata": {},
   "outputs": [
    {
     "name": "stdout",
     "output_type": "stream",
     "text": [
      "YOU HAVE JUST BEEN EMPLOYEED BY JTECH LIMITED, YOU ARE ASKED TO CREATE A SIMPLE \n",
      "POSTING PROGRAMM FOR STAFF TO ANY OF OUR\n",
      "BRANCH LOCATION [ABIA, KADUNA, KANO, DELTA, GOMBE,AKWA-IBOM, OYO , OSUN, KWARA]\n"
     ]
    }
   ],
   "source": [
    "file = open('demo.docx','r+')\n",
    "print(file.read())\n",
    "file.write('CREATE A DICTIONARY AS THE DATABASE WITH STAFF ID AS\\\n",
    "THE KEY WITH THE FOLLOWING VALUESSTAFF NAME , DOB,ADDRESS, PHONENUMBER AND EMAIL')\n",
    "file.close()"
   ]
  },
  {
   "cell_type": "code",
   "execution_count": 8,
   "id": "2b27bb8e",
   "metadata": {},
   "outputs": [
    {
     "name": "stdout",
     "output_type": "stream",
     "text": [
      "YOU HAVE JUST BEEN EMPLOYEED BY JTECH LIMITED, YOU ARE ASKED TO CREATE A SIMPLE \n",
      "POSTING PROGRAMM FOR STAFF TO ANY OF OUR\n",
      "BRANCH LOCATION [ABIA, KADUNA, KANO, DELTA, GOMBE,AKWA-IBOM, OYO , OSUN, KWARA]CREATE A DICTIONARY AS THE DATABASE WITH STAFF ID ASTHE KEY WITH THE FOLLOWING VALUESSTAFF NAME , DOB,ADDRESS, PHONENUMBER AND EMAIL\n"
     ]
    }
   ],
   "source": [
    "file = open('demo.docx','r')\n",
    "print(file.read())\n",
    "file.close()"
   ]
  },
  {
   "cell_type": "code",
   "execution_count": null,
   "id": "333a7f55",
   "metadata": {},
   "outputs": [],
   "source": []
  }
 ],
 "metadata": {
  "kernelspec": {
   "display_name": "Python 3 (ipykernel)",
   "language": "python",
   "name": "python3"
  },
  "language_info": {
   "codemirror_mode": {
    "name": "ipython",
    "version": 3
   },
   "file_extension": ".py",
   "mimetype": "text/x-python",
   "name": "python",
   "nbconvert_exporter": "python",
   "pygments_lexer": "ipython3",
   "version": "3.9.12"
  }
 },
 "nbformat": 4,
 "nbformat_minor": 5
}

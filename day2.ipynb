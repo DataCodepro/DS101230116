{
 "cells": [
  {
   "cell_type": "markdown",
   "id": "a06b1282",
   "metadata": {},
   "source": [
    "# DATA TYPE CONVERSION"
   ]
  },
  {
   "cell_type": "code",
   "execution_count": 1,
   "id": "77919c02",
   "metadata": {},
   "outputs": [
    {
     "name": "stdout",
     "output_type": "stream",
     "text": [
      "12\n"
     ]
    }
   ],
   "source": [
    "num1 = int(12.6)\n",
    "print(num1)"
   ]
  },
  {
   "cell_type": "code",
   "execution_count": 2,
   "id": "a2fd702f",
   "metadata": {},
   "outputs": [
    {
     "name": "stdout",
     "output_type": "stream",
     "text": [
      "15.0\n"
     ]
    }
   ],
   "source": [
    "num2 = 15\n",
    "print(float(num2))"
   ]
  },
  {
   "cell_type": "code",
   "execution_count": 4,
   "id": "e049d065",
   "metadata": {},
   "outputs": [
    {
     "data": {
      "text/plain": [
       "'15'"
      ]
     },
     "execution_count": 4,
     "metadata": {},
     "output_type": "execute_result"
    }
   ],
   "source": [
    "str(num2)"
   ]
  },
  {
   "cell_type": "code",
   "execution_count": 5,
   "id": "44bcec70",
   "metadata": {},
   "outputs": [
    {
     "data": {
      "text/plain": [
       "'15.32'"
      ]
     },
     "execution_count": 5,
     "metadata": {},
     "output_type": "execute_result"
    }
   ],
   "source": [
    "num3 = 15.32\n",
    "str(num3)"
   ]
  },
  {
   "cell_type": "code",
   "execution_count": 8,
   "id": "78cad755",
   "metadata": {},
   "outputs": [
    {
     "name": "stdout",
     "output_type": "stream",
     "text": [
      "58.0\n"
     ]
    }
   ],
   "source": [
    "word = '58'\n",
    "print(float(word))"
   ]
  },
  {
   "cell_type": "markdown",
   "id": "2a77177d",
   "metadata": {},
   "source": [
    "# INPUT FUNCTION"
   ]
  },
  {
   "cell_type": "code",
   "execution_count": 15,
   "id": "d263f880",
   "metadata": {},
   "outputs": [
    {
     "name": "stdout",
     "output_type": "stream",
     "text": [
      "Please enter your name:Sam\n"
     ]
    }
   ],
   "source": [
    "name = input('Please enter your name:')"
   ]
  },
  {
   "cell_type": "code",
   "execution_count": 16,
   "id": "7a886300",
   "metadata": {},
   "outputs": [
    {
     "name": "stdout",
     "output_type": "stream",
     "text": [
      "Sam\n"
     ]
    }
   ],
   "source": [
    "print(name)"
   ]
  },
  {
   "cell_type": "code",
   "execution_count": 19,
   "id": "25d4d360",
   "metadata": {},
   "outputs": [
    {
     "name": "stdout",
     "output_type": "stream",
     "text": [
      "Please enter your age:45\n"
     ]
    }
   ],
   "source": [
    "Age = int(input('Please enter your age:'))"
   ]
  },
  {
   "cell_type": "markdown",
   "id": "952b33c8",
   "metadata": {},
   "source": [
    "# OPERATORS"
   ]
  },
  {
   "cell_type": "markdown",
   "id": "7310d645",
   "metadata": {},
   "source": [
    "## Arithimetic Operators"
   ]
  },
  {
   "cell_type": "code",
   "execution_count": 20,
   "id": "55fd3707",
   "metadata": {},
   "outputs": [
    {
     "name": "stdout",
     "output_type": "stream",
     "text": [
      "Please provide number one value:85\n",
      "Please provide number two value:45\n",
      "85 + 45 = 130\n",
      "85 - 45 = 40\n",
      "85 * 45 = 3825\n",
      "85 / 45 = 1.8888888888888888\n",
      "85 % 45 = 40\n",
      "85 // 45 = 1\n",
      "85 ** 45 = 666579045552219580249174894800496142142685846003260003755030993488617241382598876953125\n"
     ]
    }
   ],
   "source": [
    "Num1 = int(input('Please provide number one value:'))\n",
    "Num2 = int(input('Please provide number two value:'))\n",
    "print(f'{Num1} + {Num2} = {Num1 + Num2}')\n",
    "print(f'{Num1} - {Num2} = {Num1 - Num2}')\n",
    "print(f'{Num1} * {Num2} = {Num1 * Num2}')\n",
    "print(f'{Num1} / {Num2} = {Num1 / Num2}')\n",
    "print(f'{Num1} % {Num2} = {Num1 % Num2}')\n",
    "print(f'{Num1} // {Num2} = {Num1 // Num2}')\n",
    "print(f'{Num1} ** {Num2} = {Num1 ** Num2}')"
   ]
  },
  {
   "cell_type": "markdown",
   "id": "96318bb1",
   "metadata": {},
   "source": [
    "## Comparism Operators"
   ]
  },
  {
   "cell_type": "code",
   "execution_count": 21,
   "id": "2c82ff32",
   "metadata": {},
   "outputs": [
    {
     "name": "stdout",
     "output_type": "stream",
     "text": [
      "Please provide number one value:12\n",
      "Please provide number two value:8\n",
      "12 > 8 = True\n",
      "12 < 8 = False\n",
      "12 >= 8 = True\n",
      "12 <= 8 = False\n",
      "12 == 8 = False\n",
      "12 != 8 = True\n"
     ]
    }
   ],
   "source": [
    "Num1 = int(input('Please provide number one value:'))\n",
    "Num2 = int(input('Please provide number two value:'))\n",
    "print(f'{Num1} > {Num2} = {Num1 > Num2}')\n",
    "print(f'{Num1} < {Num2} = {Num1 < Num2}')\n",
    "print(f'{Num1} >= {Num2} = {Num1 >= Num2}')\n",
    "print(f'{Num1} <= {Num2} = {Num1 <= Num2}')\n",
    "print(f'{Num1} == {Num2} = {Num1 == Num2}')\n",
    "print(f'{Num1} != {Num2} = {Num1 != Num2}')"
   ]
  },
  {
   "cell_type": "markdown",
   "id": "15da74cd",
   "metadata": {},
   "source": [
    "## Logical Operators"
   ]
  },
  {
   "cell_type": "code",
   "execution_count": 22,
   "id": "23687496",
   "metadata": {},
   "outputs": [
    {
     "name": "stdout",
     "output_type": "stream",
     "text": [
      "Please provide number one value:65\n",
      "Please provide number two value:12\n",
      "False\n",
      "True\n",
      "False\n"
     ]
    }
   ],
   "source": [
    "Num1 = int(input('Please provide number one value:'))\n",
    "Num2 = int(input('Please provide number two value:'))\n",
    "print(Num1 > Num2 and Num1 == Num2)\n",
    "print(Num1 > Num2 or Num1 == Num2)\n",
    "print(not Num1)"
   ]
  },
  {
   "cell_type": "markdown",
   "id": "a6e7a5e1",
   "metadata": {},
   "source": [
    "## Membership Operators"
   ]
  },
  {
   "cell_type": "code",
   "execution_count": 24,
   "id": "f9a5f71f",
   "metadata": {},
   "outputs": [
    {
     "name": "stdout",
     "output_type": "stream",
     "text": [
      "True\n",
      "True\n"
     ]
    }
   ],
   "source": [
    "word = 'school'\n",
    "print('ch' in word)\n",
    "print('Ch' not in word)"
   ]
  },
  {
   "cell_type": "markdown",
   "id": "f81fc735",
   "metadata": {},
   "source": [
    "## Identity Operators"
   ]
  },
  {
   "cell_type": "code",
   "execution_count": 25,
   "id": "574ebb7a",
   "metadata": {},
   "outputs": [
    {
     "name": "stdout",
     "output_type": "stream",
     "text": [
      "False\n",
      "True\n"
     ]
    }
   ],
   "source": [
    "print(Num1 is Num2)\n",
    "print(Num1 is not Num2)"
   ]
  },
  {
   "cell_type": "code",
   "execution_count": null,
   "id": "b02ac03d",
   "metadata": {},
   "outputs": [],
   "source": []
  }
 ],
 "metadata": {
  "kernelspec": {
   "display_name": "Python 3 (ipykernel)",
   "language": "python",
   "name": "python3"
  },
  "language_info": {
   "codemirror_mode": {
    "name": "ipython",
    "version": 3
   },
   "file_extension": ".py",
   "mimetype": "text/x-python",
   "name": "python",
   "nbconvert_exporter": "python",
   "pygments_lexer": "ipython3",
   "version": "3.9.12"
  }
 },
 "nbformat": 4,
 "nbformat_minor": 5
}

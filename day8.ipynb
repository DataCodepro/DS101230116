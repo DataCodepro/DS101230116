{
 "cells": [
  {
   "cell_type": "markdown",
   "id": "36927355",
   "metadata": {},
   "source": [
    "# CLASS AND OBJECT"
   ]
  },
  {
   "cell_type": "code",
   "execution_count": 2,
   "id": "ff0c25ea",
   "metadata": {},
   "outputs": [
    {
     "data": {
      "text/plain": [
       "'Eagle'"
      ]
     },
     "execution_count": 2,
     "metadata": {},
     "output_type": "execute_result"
    }
   ],
   "source": [
    "class pet:\n",
    "    name = 'Eagle'\n",
    "    family = 'Birds'\n",
    "ob = pet()\n",
    "ob.name"
   ]
  },
  {
   "cell_type": "code",
   "execution_count": 3,
   "id": "c2b759c2",
   "metadata": {},
   "outputs": [
    {
     "data": {
      "text/plain": [
       "'Birds'"
      ]
     },
     "execution_count": 3,
     "metadata": {},
     "output_type": "execute_result"
    }
   ],
   "source": [
    "ob.family"
   ]
  },
  {
   "cell_type": "code",
   "execution_count": 6,
   "id": "1b0548b3",
   "metadata": {},
   "outputs": [],
   "source": [
    "class pet2:\n",
    "    name = 'Tiger'\n",
    "    family = 'CAT'\n",
    "    \n",
    "    def details(self):\n",
    "        print(f'''NAME:{self.name}\n",
    "FAMILY : {self.family}\n",
    "''')\n",
    "cat1 = pet2()"
   ]
  },
  {
   "cell_type": "code",
   "execution_count": 7,
   "id": "6f2d340f",
   "metadata": {},
   "outputs": [
    {
     "name": "stdout",
     "output_type": "stream",
     "text": [
      "NAME:Tiger\n",
      "FAMILY : CAT\n",
      "\n"
     ]
    }
   ],
   "source": [
    "cat1.details()"
   ]
  },
  {
   "cell_type": "markdown",
   "id": "e8911b7f",
   "metadata": {},
   "source": [
    "# using class and object write a simple program that will based on balance perform the following operations deposit, withdraw and transfer"
   ]
  },
  {
   "cell_type": "code",
   "execution_count": 12,
   "id": "d82bb301",
   "metadata": {},
   "outputs": [],
   "source": [
    "class banksystem:\n",
    "    def __init__(self):\n",
    "        self.balance = 0\n",
    "    \n",
    "    def deposit(self):\n",
    "        amount = float(input('Enter the amount to be deposited:'))\n",
    "        self.balance = self.balance + amount\n",
    "        print(f'Transcation successful and avaliable balance is {self.balance} ')\n",
    "    def withdraw(self):\n",
    "        amount = float(input('Enter the amount to be Withdrew:'))\n",
    "        self.balance = self.balance - amount\n",
    "        print(f'Transcation successful and avaliable balance is {self.balance} ')\n",
    "    def transfer(self):\n",
    "        amount = float(input('Enter the amount to be transfered:'))\n",
    "        destination = input('Enter destination account:')\n",
    "        self.balance = self.balance - amount\n",
    "        print(f'Transcation successful and avaliable balance is {self.balance} ')\n",
    "        \n",
    "customer1 = banksystem()"
   ]
  },
  {
   "cell_type": "code",
   "execution_count": 13,
   "id": "78c30d64",
   "metadata": {},
   "outputs": [
    {
     "name": "stdout",
     "output_type": "stream",
     "text": [
      "Enter the amount to be deposited:55000.500\n",
      "Transcation successful and avaliable balance is 55000.5 \n"
     ]
    }
   ],
   "source": [
    "customer1.deposit()"
   ]
  },
  {
   "cell_type": "code",
   "execution_count": 14,
   "id": "4258d47f",
   "metadata": {},
   "outputs": [
    {
     "name": "stdout",
     "output_type": "stream",
     "text": [
      "Enter the amount to be Withdrew:20000\n",
      "Transcation successful and avaliable balance is 35000.5 \n"
     ]
    }
   ],
   "source": [
    "customer1.withdraw()"
   ]
  },
  {
   "cell_type": "code",
   "execution_count": 15,
   "id": "97e12713",
   "metadata": {},
   "outputs": [
    {
     "name": "stdout",
     "output_type": "stream",
     "text": [
      "Enter the amount to be transfered:15000\n",
      "Enter destination account:2456897879\n",
      "Transcation successful and avaliable balance is 20000.5 \n"
     ]
    }
   ],
   "source": [
    "customer1.transfer()"
   ]
  },
  {
   "cell_type": "code",
   "execution_count": 17,
   "id": "c03f7791",
   "metadata": {},
   "outputs": [
    {
     "name": "stdout",
     "output_type": "stream",
     "text": [
      "Enter y as yes to perform any operation and n as no to quit:y\n",
      "Enter operation option [deposit, withdraw, transfer and getbalance]:deposit\n",
      "Enter the amount to be deposited:100000\n",
      "Transcation successful\n",
      "Enter y as yes to perform any operation and n as no to quit:y\n",
      "Enter operation option [deposit, withdraw, transfer and getbalance]:deposit\n",
      "Enter the amount to be deposited:55000\n",
      "Transcation successful\n",
      "Enter y as yes to perform any operation and n as no to quit:y\n",
      "Enter operation option [deposit, withdraw, transfer and getbalance]:getbalance\n",
      "Avaliable Balance is 155000.0\n",
      "Enter y as yes to perform any operation and n as no to quit:y\n",
      "Enter operation option [deposit, withdraw, transfer and getbalance]:transfer\n",
      "Enter the amount to be transfered:65000\n",
      "Enter destination account:45789632156\n",
      "Transcation successful\n",
      "Enter y as yes to perform any operation and n as no to quit:y\n",
      "Enter operation option [deposit, withdraw, transfer and getbalance]:getbalance\n",
      "Avaliable Balance is 90000.0\n",
      "Enter y as yes to perform any operation and n as no to quit:n\n"
     ]
    }
   ],
   "source": [
    "class banksystem2:\n",
    "    def __init__(self):\n",
    "        self.balance = 0\n",
    "    \n",
    "    def deposit(self):\n",
    "        amount = float(input('Enter the amount to be deposited:'))\n",
    "        self.balance = self.balance + amount\n",
    "        print(f'Transcation successful')\n",
    "    def withdraw(self):\n",
    "        amount = float(input('Enter the amount to be Withdrew:'))\n",
    "        self.balance = self.balance - amount\n",
    "        print(f'Transcation successful')\n",
    "    def transfer(self):\n",
    "        amount = float(input('Enter the amount to be transfered:'))\n",
    "        destination = input('Enter destination account:')\n",
    "        self.balance = self.balance - amount\n",
    "        print(f'Transcation successful')\n",
    "    def getbalance(self):\n",
    "        print(f'Avaliable Balance is {self.balance}')\n",
    "customer = banksystem2()\n",
    "counter = 1\n",
    "operations = input('Enter y as yes to perform any operation and n as no to quit:')\n",
    "while operations == 'y':\n",
    "    option = input('Enter operation option [deposit, withdraw, transfer and getbalance]:')\n",
    "    if option == 'deposit':\n",
    "        customer.deposit()\n",
    "    elif option == 'withdraw':\n",
    "        customer.withdraw()\n",
    "    elif option == 'transfer':\n",
    "        customer.transfer()\n",
    "    elif option == 'getbalance':\n",
    "        customer.getbalance()\n",
    "    operations = input('Enter y as yes to perform any operation and n as no to quit:')\n",
    "    counter = counter + 1"
   ]
  },
  {
   "cell_type": "code",
   "execution_count": 19,
   "id": "9f2d4c44",
   "metadata": {},
   "outputs": [],
   "source": [
    "class game:\n",
    "    def __init__(self,brand,model,color,speed):\n",
    "        self.brand = brand\n",
    "        self.model = model\n",
    "        self.color  =color\n",
    "        self.speed = speed\n",
    "    def start(self):\n",
    "        print(f'{self.brand} {self.model} has started')\n",
    "    \n",
    "    def gear(self,option):\n",
    "        if option == 1:\n",
    "            print('Gear changed from 1 to 3')\n",
    "        elif option == 2:\n",
    "            print('Gear change from 4 to 5 and reverse')\n",
    "        else:\n",
    "            print('invalid option')\n",
    "    def stop(self):\n",
    "        print(f'{self.brand} {self.model} has started')\n",
    "        \n",
    "car1 = game('Audi','J5','Blue',250)"
   ]
  },
  {
   "cell_type": "code",
   "execution_count": 20,
   "id": "35288237",
   "metadata": {},
   "outputs": [
    {
     "name": "stdout",
     "output_type": "stream",
     "text": [
      "Audi J5 has started\n"
     ]
    }
   ],
   "source": [
    "car1.start()"
   ]
  },
  {
   "cell_type": "code",
   "execution_count": 22,
   "id": "204235ee",
   "metadata": {},
   "outputs": [],
   "source": [
    "class game2(game):\n",
    "    def accelaration(option):\n",
    "        if option == 1:\n",
    "            print('Nitro Engaged')\n",
    "        else:\n",
    "            print('Nitro Disengaged')\n",
    "car2 = game2('Toyota','BIG45','Yellow',350)"
   ]
  },
  {
   "cell_type": "code",
   "execution_count": 23,
   "id": "d9db543b",
   "metadata": {},
   "outputs": [
    {
     "name": "stdout",
     "output_type": "stream",
     "text": [
      "Toyota BIG45 has started\n"
     ]
    }
   ],
   "source": [
    "car2.start()"
   ]
  },
  {
   "cell_type": "code",
   "execution_count": null,
   "id": "fd3df8d3",
   "metadata": {},
   "outputs": [],
   "source": []
  }
 ],
 "metadata": {
  "kernelspec": {
   "display_name": "Python 3 (ipykernel)",
   "language": "python",
   "name": "python3"
  },
  "language_info": {
   "codemirror_mode": {
    "name": "ipython",
    "version": 3
   },
   "file_extension": ".py",
   "mimetype": "text/x-python",
   "name": "python",
   "nbconvert_exporter": "python",
   "pygments_lexer": "ipython3",
   "version": "3.9.12"
  }
 },
 "nbformat": 4,
 "nbformat_minor": 5
}

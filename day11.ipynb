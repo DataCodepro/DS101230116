{
 "cells": [
  {
   "cell_type": "markdown",
   "id": "6e27ef1d",
   "metadata": {},
   "source": [
    "# DATE AND TIME"
   ]
  },
  {
   "cell_type": "code",
   "execution_count": 1,
   "id": "db1ba8af",
   "metadata": {},
   "outputs": [],
   "source": [
    "import datetime"
   ]
  },
  {
   "cell_type": "code",
   "execution_count": 2,
   "id": "b0777439",
   "metadata": {},
   "outputs": [
    {
     "name": "stdout",
     "output_type": "stream",
     "text": [
      "['MAXYEAR', 'MINYEAR', '__all__', '__builtins__', '__cached__', '__doc__', '__file__', '__loader__', '__name__', '__package__', '__spec__', 'date', 'datetime', 'datetime_CAPI', 'sys', 'time', 'timedelta', 'timezone', 'tzinfo']\n"
     ]
    }
   ],
   "source": [
    "print(dir(datetime))"
   ]
  },
  {
   "cell_type": "code",
   "execution_count": 3,
   "id": "c22f89f8",
   "metadata": {},
   "outputs": [
    {
     "data": {
      "text/plain": [
       "datetime.date(2023, 1, 12)"
      ]
     },
     "execution_count": 3,
     "metadata": {},
     "output_type": "execute_result"
    }
   ],
   "source": [
    "date1 = datetime.date(2023,1,12)\n",
    "date1"
   ]
  },
  {
   "cell_type": "code",
   "execution_count": 4,
   "id": "0bf2c8c8",
   "metadata": {},
   "outputs": [
    {
     "data": {
      "text/plain": [
       "datetime.date"
      ]
     },
     "execution_count": 4,
     "metadata": {},
     "output_type": "execute_result"
    }
   ],
   "source": [
    "type(date1)"
   ]
  },
  {
   "cell_type": "code",
   "execution_count": 5,
   "id": "fffe5ec0",
   "metadata": {},
   "outputs": [
    {
     "name": "stdout",
     "output_type": "stream",
     "text": [
      "2023\n",
      "1\n",
      "12\n",
      "3\n",
      "4\n"
     ]
    }
   ],
   "source": [
    "print(date1.year)\n",
    "print(date1.month)\n",
    "print(date1.day)\n",
    "print(date1.weekday())\n",
    "print(date1.isoweekday())"
   ]
  },
  {
   "cell_type": "code",
   "execution_count": 7,
   "id": "00ac299e",
   "metadata": {},
   "outputs": [
    {
     "name": "stdout",
     "output_type": "stream",
     "text": [
      "2023-02-08\n"
     ]
    }
   ],
   "source": [
    "currentdate = datetime.date.today()\n",
    "print(currentdate)"
   ]
  },
  {
   "cell_type": "code",
   "execution_count": 8,
   "id": "e2cbfc1d",
   "metadata": {},
   "outputs": [],
   "source": [
    "#strftime:This is used for the modification of date and time"
   ]
  },
  {
   "cell_type": "code",
   "execution_count": 21,
   "id": "df7fc1f6",
   "metadata": {},
   "outputs": [
    {
     "data": {
      "text/plain": [
       "'08 of February, 2023'"
      ]
     },
     "execution_count": 21,
     "metadata": {},
     "output_type": "execute_result"
    }
   ],
   "source": [
    "currentdate.strftime('%d of %B, %Y')"
   ]
  },
  {
   "cell_type": "code",
   "execution_count": 22,
   "id": "f3398bd0",
   "metadata": {},
   "outputs": [
    {
     "name": "stdout",
     "output_type": "stream",
     "text": [
      "10:25:45.454545\n"
     ]
    }
   ],
   "source": [
    "time1 = datetime.time(10,25,45,454545)\n",
    "print(time1)"
   ]
  },
  {
   "cell_type": "code",
   "execution_count": 23,
   "id": "05b3df14",
   "metadata": {},
   "outputs": [
    {
     "name": "stdout",
     "output_type": "stream",
     "text": [
      "10\n",
      "25\n",
      "45\n",
      "454545\n"
     ]
    }
   ],
   "source": [
    "print(time1.hour)\n",
    "print(time1.minute)\n",
    "print(time1.second)\n",
    "print(time1.microsecond)"
   ]
  },
  {
   "cell_type": "code",
   "execution_count": 24,
   "id": "4b3fe82d",
   "metadata": {},
   "outputs": [
    {
     "name": "stdout",
     "output_type": "stream",
     "text": [
      "10:32:49.178466\n"
     ]
    }
   ],
   "source": [
    "currenttime = datetime.datetime.now().time()\n",
    "print(currenttime)"
   ]
  },
  {
   "cell_type": "code",
   "execution_count": 31,
   "id": "2302f2bf",
   "metadata": {},
   "outputs": [
    {
     "data": {
      "text/plain": [
       "'10::32::49::AM'"
      ]
     },
     "execution_count": 31,
     "metadata": {},
     "output_type": "execute_result"
    }
   ],
   "source": [
    "currenttime.strftime('%I::%M::%S::%p')"
   ]
  },
  {
   "cell_type": "markdown",
   "id": "2f1191a4",
   "metadata": {},
   "source": [
    "# EXERCISE ONE\n",
    "# WRITE A PYTHON PROGRAM TO SEND A REMINDER MESSAGE TO SIX OF REGISTERED STUDENT OF THE DATE AND TIME OF THEIR EXAM"
   ]
  },
  {
   "cell_type": "code",
   "execution_count": 33,
   "id": "c2c16d48",
   "metadata": {},
   "outputs": [
    {
     "name": "stdout",
     "output_type": "stream",
     "text": [
      "hey Ade this is a kind reminder of your exam slated on the 15 of April, 2023 by 04PM prompt\n",
      "hey Mary this is a kind reminder of your exam slated on the 15 of April, 2023 by 04PM prompt\n",
      "hey John this is a kind reminder of your exam slated on the 15 of April, 2023 by 04PM prompt\n",
      "hey Samuel this is a kind reminder of your exam slated on the 15 of April, 2023 by 04PM prompt\n",
      "hey Hope this is a kind reminder of your exam slated on the 15 of April, 2023 by 04PM prompt\n",
      "hey Faith this is a kind reminder of your exam slated on the 15 of April, 2023 by 04PM prompt\n"
     ]
    }
   ],
   "source": [
    "student = ['Ade','Mary','John','Samuel','Hope','Faith']\n",
    "examdate = datetime.datetime(2023,4,15,16,0,0)\n",
    "for name in student:\n",
    "    print(f'hey {name} this is a kind reminder of your exam slated on the {examdate.strftime(\"%d of %B, %Y\")} by {examdate.strftime(\"%I%p\")} prompt')"
   ]
  },
  {
   "cell_type": "code",
   "execution_count": 34,
   "id": "66b20166",
   "metadata": {},
   "outputs": [],
   "source": [
    "#strptime : this used to convert date and time in string to datatime format"
   ]
  },
  {
   "cell_type": "code",
   "execution_count": 37,
   "id": "fff4d642",
   "metadata": {},
   "outputs": [
    {
     "name": "stdout",
     "output_type": "stream",
     "text": [
      "Please Provide your date [mm/dd/yy]04/14/2023\n",
      "2023-04-14\n"
     ]
    }
   ],
   "source": [
    "engagementdate = input('Please Provide your date [mm/dd/yy]')\n",
    "date2 = datetime.datetime.strptime(engagementdate,'%m/%d/%Y').date()\n",
    "print(date2)"
   ]
  },
  {
   "cell_type": "code",
   "execution_count": 38,
   "id": "993c2f02",
   "metadata": {},
   "outputs": [
    {
     "data": {
      "text/plain": [
       "datetime.timedelta(days=27)"
      ]
     },
     "execution_count": 38,
     "metadata": {},
     "output_type": "execute_result"
    }
   ],
   "source": [
    "#time delta: this is the difference between two datetime\n",
    "currentdate - date1"
   ]
  },
  {
   "cell_type": "code",
   "execution_count": 43,
   "id": "26d03cb8",
   "metadata": {},
   "outputs": [
    {
     "data": {
      "text/plain": [
       "datetime.date(2025, 12, 24)"
      ]
     },
     "execution_count": 43,
     "metadata": {},
     "output_type": "execute_result"
    }
   ],
   "source": [
    "currentdate + datetime.timedelta(weeks = 150)"
   ]
  },
  {
   "cell_type": "markdown",
   "id": "83e81c99",
   "metadata": {},
   "source": [
    "# EXERCISE TWO\n",
    "# WRITE A PYTHON PROGRAM TO TELL A USER HOW MANY WEEKS AND DAYS THEY HAVE UNTIL THEIR APPIONTMENT FROM THE CURRENT DATE"
   ]
  },
  {
   "cell_type": "code",
   "execution_count": 44,
   "id": "a1edac8a",
   "metadata": {},
   "outputs": [
    {
     "name": "stdout",
     "output_type": "stream",
     "text": [
      "Enter Your Name:James Garder\n",
      "Enter your Appiontment Date [d/m/Y]:15/06/2023\n",
      "Hey James Garder you have 18 weeks and 1 days until your appiontment\n"
     ]
    }
   ],
   "source": [
    "name = input('Enter Your Name:')\n",
    "strappiontmentdate = input('Enter your Appiontment Date [d/m/Y]:')\n",
    "appiontmentdate = datetime.datetime.strptime(strappiontmentdate,'%d/%m/%Y').date()\n",
    "currentdate = datetime.date.today()\n",
    "diff = appiontmentdate - currentdate\n",
    "trw = diff.days // 7\n",
    "trd = diff.days % 7\n",
    "print(f'Hey {name} you have {trw} weeks and {trd} days until your appiontment')"
   ]
  },
  {
   "cell_type": "code",
   "execution_count": null,
   "id": "61dfe6d2",
   "metadata": {},
   "outputs": [],
   "source": []
  }
 ],
 "metadata": {
  "kernelspec": {
   "display_name": "Python 3 (ipykernel)",
   "language": "python",
   "name": "python3"
  },
  "language_info": {
   "codemirror_mode": {
    "name": "ipython",
    "version": 3
   },
   "file_extension": ".py",
   "mimetype": "text/x-python",
   "name": "python",
   "nbconvert_exporter": "python",
   "pygments_lexer": "ipython3",
   "version": "3.9.12"
  }
 },
 "nbformat": 4,
 "nbformat_minor": 5
}

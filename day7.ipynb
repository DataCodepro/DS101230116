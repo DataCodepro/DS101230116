{
 "cells": [
  {
   "cell_type": "markdown",
   "id": "2b334606",
   "metadata": {},
   "source": [
    "# VARIABLE LENGHT FUNCTIONS"
   ]
  },
  {
   "cell_type": "code",
   "execution_count": 2,
   "id": "b48129ac",
   "metadata": {},
   "outputs": [
    {
     "name": "stdout",
     "output_type": "stream",
     "text": [
      "<class 'tuple'>\n"
     ]
    },
    {
     "data": {
      "text/plain": [
       "'The avearge score of the following numbers (25, 23, 54, 87, 98, 56) is 57.17'"
      ]
     },
     "execution_count": 2,
     "metadata": {},
     "output_type": "execute_result"
    }
   ],
   "source": [
    "def averagescore(*num):\n",
    "    print(type(num))\n",
    "    average = round(sum(num)/len(num),2)\n",
    "    return f'The avearge score of the following numbers {num} is {average}'\n",
    "averagescore(25,23,54,87,98,56)"
   ]
  },
  {
   "cell_type": "code",
   "execution_count": 3,
   "id": "361f3c11",
   "metadata": {},
   "outputs": [
    {
     "name": "stdout",
     "output_type": "stream",
     "text": [
      "Apple Cup 45 Cherry "
     ]
    }
   ],
   "source": [
    "def items(*goods):\n",
    "    for listitems in goods:\n",
    "        print(listitems, end = ' ')\n",
    "items('Apple','Cup',45,'Cherry')"
   ]
  },
  {
   "cell_type": "code",
   "execution_count": 4,
   "id": "2c258600",
   "metadata": {},
   "outputs": [
    {
     "name": "stdout",
     "output_type": "stream",
     "text": [
      "[33, 24, 14, 22, 18, 44, 52, 37, 14, 23, 34, 25, 48, 36, 46, 20, 36, 26, 25, 33, 25, 50, 48, 37, 27, 43, 45, 38, 21, 35, 39, 51, 33, 53, 54, 44, 49, 33, 49, 45, 49, 44, 53, 14, 27, 21, 47, 14, 55, 37]\n"
     ]
    }
   ],
   "source": [
    "import random\n",
    "numbers = []\n",
    "counter = 1\n",
    "while counter <= 50:\n",
    "    num = random.randint(14,56)\n",
    "    numbers.append(num)\n",
    "    counter +=1\n",
    "print(numbers)\n"
   ]
  },
  {
   "cell_type": "code",
   "execution_count": 5,
   "id": "e386e876",
   "metadata": {},
   "outputs": [
    {
     "name": "stdout",
     "output_type": "stream",
     "text": [
      "<class 'tuple'>\n"
     ]
    },
    {
     "data": {
      "text/plain": [
       "'The avearge score of the following numbers (33, 24, 14, 22, 18, 44, 52, 37, 14, 23, 34, 25, 48, 36, 46, 20, 36, 26, 25, 33, 25, 50, 48, 37, 27, 43, 45, 38, 21, 35, 39, 51, 33, 53, 54, 44, 49, 33, 49, 45, 49, 44, 53, 14, 27, 21, 47, 14, 55, 37) is 35.8'"
      ]
     },
     "execution_count": 5,
     "metadata": {},
     "output_type": "execute_result"
    }
   ],
   "source": [
    "averagescore(*numbers)"
   ]
  },
  {
   "cell_type": "code",
   "execution_count": 6,
   "id": "9be9c54e",
   "metadata": {},
   "outputs": [
    {
     "name": "stdout",
     "output_type": "stream",
     "text": [
      "<class 'dict'>\n",
      "name ::: Bon jovi\n",
      "age ::: 35\n",
      "address ::: No 25 highway street\n"
     ]
    }
   ],
   "source": [
    "def records(**details):\n",
    "    print(type(details))\n",
    "    for key,value in details.items():\n",
    "        print(key, ':::', value)\n",
    "records(name ='Bon jovi', age = 35, address = 'No 25 highway street')"
   ]
  },
  {
   "cell_type": "code",
   "execution_count": 7,
   "id": "dbae4116",
   "metadata": {},
   "outputs": [
    {
     "name": "stdout",
     "output_type": "stream",
     "text": [
      "<class 'dict'>\n",
      "Name ::: Job\n",
      "Age ::: 56\n"
     ]
    }
   ],
   "source": [
    "family = {\n",
    "    'Name':'Job',\n",
    "    'Age':56\n",
    "}\n",
    "records(**family)"
   ]
  },
  {
   "cell_type": "markdown",
   "id": "818b0c65",
   "metadata": {},
   "source": [
    "# Exercise 1\n",
    "# Write a function with variable lenght to accept 6 values for the following keys and after you display them\n",
    "# ItemName, ItemCategory, ItemCondition, ItemWeight"
   ]
  },
  {
   "cell_type": "code",
   "execution_count": 8,
   "id": "6d33836f",
   "metadata": {},
   "outputs": [
    {
     "name": "stdout",
     "output_type": "stream",
     "text": [
      "<class 'dict'>\n",
      "ItemName ::: ['IPHONE12', 'GUCCI MALE SHOE', 'IPHONE12', 'GUCCI MALE SHOE', 'IPHONE12', 'GUCCI MALE SHOE']\n",
      "ItemCategory ::: ['Electronics', 'Wears', 'Electronics', 'Wears', 'Electronics', 'Wears']\n",
      "ItemCondition ::: ['Fragile', 'Non-fragile', 'Fragile', 'Non-fragile', 'Fragile', 'Non-fragile']\n",
      "ItemWeight ::: [45, 50, 25, 36, 85, 20]\n"
     ]
    }
   ],
   "source": [
    "def records(**details):\n",
    "    print(type(details))\n",
    "    for key,value in details.items():\n",
    "        print(key, ':::', value)\n",
    "records(ItemName =['IPHONE12','GUCCI MALE SHOE','IPHONE12','GUCCI MALE SHOE','IPHONE12','GUCCI MALE SHOE'], ItemCategory = ['Electronics','Wears','Electronics','Wears','Electronics','Wears'], ItemCondition = ['Fragile','Non-fragile','Fragile','Non-fragile','Fragile','Non-fragile'],ItemWeight = [45,50,25,36,85,20])"
   ]
  },
  {
   "cell_type": "markdown",
   "id": "b510512b",
   "metadata": {},
   "source": [
    "# LAMBDA FUNCTION"
   ]
  },
  {
   "cell_type": "code",
   "execution_count": 9,
   "id": "08a678d6",
   "metadata": {},
   "outputs": [
    {
     "data": {
      "text/plain": [
       "90"
      ]
     },
     "execution_count": 9,
     "metadata": {},
     "output_type": "execute_result"
    }
   ],
   "source": [
    "(lambda x,y: x * y)(45,2)"
   ]
  },
  {
   "cell_type": "code",
   "execution_count": 11,
   "id": "b6ef48c1",
   "metadata": {},
   "outputs": [
    {
     "name": "stdout",
     "output_type": "stream",
     "text": [
      "Please provide a nameAdebisi\n"
     ]
    },
    {
     "data": {
      "text/plain": [
       "'Adebisi starts with upper case'"
      ]
     },
     "execution_count": 11,
     "metadata": {},
     "output_type": "execute_result"
    }
   ],
   "source": [
    "(lambda name: f'{name} starts with upper case' if name[0] == name[0].upper() else f'{name}  does not starts with upper case letter')(input('Please provide a name'))"
   ]
  },
  {
   "cell_type": "markdown",
   "id": "c990e4ce",
   "metadata": {},
   "source": [
    "# MAP and FILTER"
   ]
  },
  {
   "cell_type": "code",
   "execution_count": 15,
   "id": "7c6a3b64",
   "metadata": {},
   "outputs": [
    {
     "data": {
      "text/plain": [
       "'P Y T H O N'"
      ]
     },
     "execution_count": 15,
     "metadata": {},
     "output_type": "execute_result"
    }
   ],
   "source": [
    "word = 'python'\n",
    "updatewords = list(map(lambda x: x.upper(),word))\n",
    "updatewords = ' '.join(updatewords)\n",
    "updatewords"
   ]
  },
  {
   "cell_type": "code",
   "execution_count": 16,
   "id": "d0ddfeb4",
   "metadata": {},
   "outputs": [
    {
     "data": {
      "text/plain": [
       "['BINGO', 'PATTY', 'MANULLY', 'BEAR', 'ROCKY']"
      ]
     },
     "execution_count": 16,
     "metadata": {},
     "output_type": "execute_result"
    }
   ],
   "source": [
    "dogsname = ['bingo','patty','manully','bear','rocky']\n",
    "updatewords = list(map(lambda x: x.upper(),dogsname))\n",
    "updatewords"
   ]
  },
  {
   "cell_type": "code",
   "execution_count": 17,
   "id": "af5de18e",
   "metadata": {},
   "outputs": [
    {
     "data": {
      "text/plain": [
       "['bingo', 'bear']"
      ]
     },
     "execution_count": 17,
     "metadata": {},
     "output_type": "execute_result"
    }
   ],
   "source": [
    "updatewords = list(filter(lambda x: x.startswith('b'),dogsname))\n",
    "updatewords"
   ]
  },
  {
   "cell_type": "code",
   "execution_count": null,
   "id": "19549ad4",
   "metadata": {},
   "outputs": [],
   "source": []
  }
 ],
 "metadata": {
  "kernelspec": {
   "display_name": "Python 3 (ipykernel)",
   "language": "python",
   "name": "python3"
  },
  "language_info": {
   "codemirror_mode": {
    "name": "ipython",
    "version": 3
   },
   "file_extension": ".py",
   "mimetype": "text/x-python",
   "name": "python",
   "nbconvert_exporter": "python",
   "pygments_lexer": "ipython3",
   "version": "3.9.12"
  }
 },
 "nbformat": 4,
 "nbformat_minor": 5
}

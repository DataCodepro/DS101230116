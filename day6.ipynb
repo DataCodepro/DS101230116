{
 "cells": [
  {
   "cell_type": "markdown",
   "id": "08bf9f62",
   "metadata": {},
   "source": [
    "# FUNCTIONS"
   ]
  },
  {
   "cell_type": "code",
   "execution_count": 3,
   "id": "9a28d622",
   "metadata": {},
   "outputs": [],
   "source": [
    "def CLASS_PROJECT():\n",
    "    return 'Welcome to python class project'"
   ]
  },
  {
   "cell_type": "code",
   "execution_count": 4,
   "id": "cc451bdb",
   "metadata": {},
   "outputs": [
    {
     "data": {
      "text/plain": [
       "'Welcome to python class project'"
      ]
     },
     "execution_count": 4,
     "metadata": {},
     "output_type": "execute_result"
    }
   ],
   "source": [
    "CLASS_PROJECT()"
   ]
  },
  {
   "cell_type": "code",
   "execution_count": 5,
   "id": "41538433",
   "metadata": {},
   "outputs": [
    {
     "data": {
      "text/plain": [
       "'Welcome to python class project'"
      ]
     },
     "execution_count": 5,
     "metadata": {},
     "output_type": "execute_result"
    }
   ],
   "source": [
    "CLASS_PROJECT()"
   ]
  },
  {
   "cell_type": "code",
   "execution_count": 7,
   "id": "b234b83e",
   "metadata": {},
   "outputs": [
    {
     "data": {
      "text/plain": [
       "'Welcome to python class project Ade Johnson'"
      ]
     },
     "execution_count": 7,
     "metadata": {},
     "output_type": "execute_result"
    }
   ],
   "source": [
    "def class_project(name):\n",
    "    return f'Welcome to python class project {name}'\n",
    "\n",
    "class_project('Ade Johnson')"
   ]
  },
  {
   "cell_type": "code",
   "execution_count": 9,
   "id": "b444ef4f",
   "metadata": {},
   "outputs": [
    {
     "name": "stdout",
     "output_type": "stream",
     "text": [
      "___________________ITEM SHIPMENT DESCRIPTION_______________________\n",
      "ITEM NAME:Tecno Camon 19 pro\n",
      "ITEM CATEGORY:Mobile Phones\n",
      "ITEM CONDITION: Fragile\n",
      "ITEM QUANTITY: 5\n",
      "ITEM PRICE: #595000\n",
      "ITEM WEIGHT: 5\n",
      "ITEM DESTINATION: Kano\n",
      "\n",
      "The shipping price for the above item is #6250\n"
     ]
    }
   ],
   "source": [
    "def shipment(location,itemname,itemcondition,itemcategory,itemquantity,itemprice,itemweight,defaultweight):\n",
    "    print(f'''___________________ITEM SHIPMENT DESCRIPTION_______________________\n",
    "ITEM NAME:{itemname}\n",
    "ITEM CATEGORY:{itemcategory}\n",
    "ITEM CONDITION: {itemcondition}\n",
    "ITEM QUANTITY: {itemquantity}\n",
    "ITEM PRICE: #{itemprice * itemquantity}\n",
    "ITEM WEIGHT: {itemweight}\n",
    "ITEM DESTINATION: {location}\n",
    "''')\n",
    "    if itemcondition == 'Non-fragile' and itemweight <= defaultweight:\n",
    "        print(f'The shipping price for the above item is #{itemquantity *itemweight * 100}')\n",
    "    elif itemcondition == 'Fragile' and itemweight <= defaultweight:\n",
    "        print(f'The shipping price for the above item is #{itemquantity *itemweight * 250}')\n",
    "    elif itemcondition == 'Fragile' and itemweight > defaultweight:\n",
    "        print(f'The shipping price for the above item is #{itemquantity *itemweight * 500}')\n",
    "    elif itemcondition == 'Non-fragile' and itemweight > defaultweight:\n",
    "        print(f'The shipping price for the above item is #{itemquantity *itemweight * 300}')\n",
    "        \n",
    "shipment('Kano','Tecno Camon 19 pro','Fragile','Mobile Phones',5,119000,5,23)\n",
    "         "
   ]
  },
  {
   "cell_type": "code",
   "execution_count": 11,
   "id": "179eb1ee",
   "metadata": {},
   "outputs": [
    {
     "name": "stdout",
     "output_type": "stream",
     "text": [
      "___________________ITEM SHIPMENT DESCRIPTION_______________________\n",
      "ITEM NAME:Tecno Camon 19 pro\n",
      "ITEM CATEGORY:Mobile Phones\n",
      "ITEM CONDITION: Fragile\n",
      "ITEM QUANTITY: 5\n",
      "ITEM PRICE: #595000\n",
      "ITEM WEIGHT: 9\n",
      "ITEM DESTINATION: Kano\n",
      "\n",
      "The shipping price for the above item is #11250\n"
     ]
    }
   ],
   "source": [
    "def shipment(location,itemname,itemcondition,itemcategory,itemquantity,itemprice,itemweight =6,defaultweight=23):\n",
    "    print(f'''___________________ITEM SHIPMENT DESCRIPTION_______________________\n",
    "ITEM NAME:{itemname}\n",
    "ITEM CATEGORY:{itemcategory}\n",
    "ITEM CONDITION: {itemcondition}\n",
    "ITEM QUANTITY: {itemquantity}\n",
    "ITEM PRICE: #{itemprice * itemquantity}\n",
    "ITEM WEIGHT: {itemweight}\n",
    "ITEM DESTINATION: {location}\n",
    "''')\n",
    "    if itemcondition == 'Non-fragile' and itemweight <= defaultweight:\n",
    "        print(f'The shipping price for the above item is #{itemquantity *itemweight * 100}')\n",
    "    elif itemcondition == 'Fragile' and itemweight <= defaultweight:\n",
    "        print(f'The shipping price for the above item is #{itemquantity *itemweight * 250}')\n",
    "    elif itemcondition == 'Fragile' and itemweight > defaultweight:\n",
    "        print(f'The shipping price for the above item is #{itemquantity *itemweight * 500}')\n",
    "    elif itemcondition == 'Non-fragile' and itemweight > defaultweight:\n",
    "        print(f'The shipping price for the above item is #{itemquantity *itemweight * 300}')\n",
    "        \n",
    "shipment('Kano','Tecno Camon 19 pro','Fragile','Mobile Phones',5,119000,9,25)\n",
    "         "
   ]
  },
  {
   "cell_type": "code",
   "execution_count": null,
   "id": "61e88659",
   "metadata": {},
   "outputs": [],
   "source": []
  }
 ],
 "metadata": {
  "kernelspec": {
   "display_name": "Python 3 (ipykernel)",
   "language": "python",
   "name": "python3"
  },
  "language_info": {
   "codemirror_mode": {
    "name": "ipython",
    "version": 3
   },
   "file_extension": ".py",
   "mimetype": "text/x-python",
   "name": "python",
   "nbconvert_exporter": "python",
   "pygments_lexer": "ipython3",
   "version": "3.9.12"
  }
 },
 "nbformat": 4,
 "nbformat_minor": 5
}
